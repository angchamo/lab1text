{
 "cells": [
  {
   "attachments": {},
   "cell_type": "markdown",
   "metadata": {},
   "source": [
    "# Laboratorio No.1 \n",
    "## Angel Chamo"
   ]
  },
  {
   "cell_type": "code",
   "execution_count": 1,
   "metadata": {},
   "outputs": [],
   "source": [
    "import cv2\n",
    "import matplotlib.pyplot as plt\n",
    "import numpy as np"
   ]
  },
  {
   "attachments": {},
   "cell_type": "markdown",
   "metadata": {},
   "source": [
    "\n",
    "Problema #1 "
   ]
  },
  {
   "cell_type": "code",
   "execution_count": 2,
   "metadata": {},
   "outputs": [],
   "source": [
    "def procesar_imagen(imagen, color):\n",
    "    # Cargar la imagen\n",
    "    img = cv2.imread(imagen)\n",
    "\n",
    "    # Crear una copia de la imagen para no modificar la original\n",
    "    img_copy = img.copy()\n",
    "\n",
    "    if color == 1:\n",
    "        img_copy[:, :, 1] = 0  # Desactivar el canal verde\n",
    "        img_copy[:, :, 2] = 0  # Desactivar el canal rojo\n",
    "    elif color == 2:\n",
    "        img_copy[:, :, 0] = 0  # Desactivar el canal azul\n",
    "        img_copy[:, :, 2] = 0  # Desactivar el canal rojo\n",
    "    elif color == 3:\n",
    "        img_copy[:, :, 0] = 0  # Desactivar el canal azul\n",
    "        img_copy[:, :, 1] = 0  # Desactivar el canal verde\n",
    "    elif color == 10:\n",
    "        img_copy[:, :, 0] = 0  # Desactivar el canal azul\n",
    "    elif color == 20:\n",
    "        img_copy[:, :, 2] = 0  # Desactivar el canal rojo\n",
    "    elif color == 30:\n",
    "        img_copy[:, :, 1] = 0  # Desactivar el canal verde\n",
    "    else:\n",
    "        raise ValueError('Color no válido')\n",
    "\n",
    "    return img_copy\n"
   ]
  },
  {
   "attachments": {},
   "cell_type": "markdown",
   "metadata": {},
   "source": [
    "Problema #2"
   ]
  },
  {
   "cell_type": "code",
   "execution_count": 6,
   "metadata": {},
   "outputs": [],
   "source": [
    "def combinar_imagenes(imagen_rojo, imagen_verde, imagen_azul):\n",
    "    # Cargar las imágenes\n",
    "    img_r = cv2.imread(imagen_rojo, cv2.IMREAD_GRAYSCALE)\n",
    "    img_g = cv2.imread(imagen_verde, cv2.IMREAD_GRAYSCALE)\n",
    "    img_b = cv2.imread(imagen_azul, cv2.IMREAD_GRAYSCALE)\n",
    "\n",
    "    # Combinar las imágenes en los canales B, G, R\n",
    "    img_color = cv2.merge((img_b, img_g, img_r))\n",
    "\n",
    "    # Mostrar la imagen\n",
    "    cv2.imshow('Imagen combinada', img_color)\n",
    "\n",
    "    # Esperar a que se presione una tecla para cerrar la ventana de la imagen\n",
    "    cv2.waitKey(0)\n",
    "    cv2.destroyAllWindows()\n",
    "\n",
    "    return img_color\n"
   ]
  },
  {
   "cell_type": "code",
   "execution_count": 10,
   "metadata": {},
   "outputs": [
    {
     "data": {
      "text/plain": [
       "array([[[181,  95,   0],\n",
       "        [181,  95,   0],\n",
       "        [181,  95,   0],\n",
       "        ...,\n",
       "        [230, 147,   2],\n",
       "        [229, 143,   0],\n",
       "        [229, 143,   0]],\n",
       "\n",
       "       [[184,  98,   2],\n",
       "        [184,  98,   2],\n",
       "        [184,  98,   2],\n",
       "        ...,\n",
       "        [230, 147,   2],\n",
       "        [233, 147,   3],\n",
       "        [233, 147,   3]],\n",
       "\n",
       "       [[181,  95,   1],\n",
       "        [181,  95,   1],\n",
       "        [181,  95,   1],\n",
       "        ...,\n",
       "        [230, 147,   1],\n",
       "        [229, 146,   0],\n",
       "        [229, 146,   0]],\n",
       "\n",
       "       ...,\n",
       "\n",
       "       [[204, 213, 230],\n",
       "        [200, 211, 229],\n",
       "        [226, 237, 252],\n",
       "        ...,\n",
       "        [ 96, 110,   1],\n",
       "        [108, 122,  10],\n",
       "        [108, 122,  10]],\n",
       "\n",
       "       [[192, 205, 222],\n",
       "        [189, 202, 222],\n",
       "        [225, 235, 252],\n",
       "        ...,\n",
       "        [ 97, 110,   1],\n",
       "        [ 90, 105,   0],\n",
       "        [ 90, 105,   0]],\n",
       "\n",
       "       [[194, 208, 228],\n",
       "        [184, 198, 218],\n",
       "        [216, 226, 242],\n",
       "        ...,\n",
       "        [ 94, 107,   0],\n",
       "        [ 93, 108,   0],\n",
       "        [ 93, 108,   0]]], dtype=uint8)"
      ]
     },
     "execution_count": 10,
     "metadata": {},
     "output_type": "execute_result"
    }
   ],
   "source": [
    "combinar_imagenes('imagen1/imagen1_salida_gray_rojo.jpg', 'imagen1/imagen1_salida_gray_verde.jpg', 'imagen1/imagen1_salida_gray_azul.jpg')"
   ]
  },
  {
   "cell_type": "code",
   "execution_count": 11,
   "metadata": {},
   "outputs": [
    {
     "data": {
      "text/plain": [
       "array([[[ 65,  48,  51],\n",
       "        [ 17,   0,   4],\n",
       "        [103,  84,  86],\n",
       "        ...,\n",
       "        [ 41,  28, 109],\n",
       "        [ 11,   0,  80],\n",
       "        [ 25,  14,  95]],\n",
       "\n",
       "       [[ 43,  26,  29],\n",
       "        [ 22,   3,   6],\n",
       "        [ 74,  53,  55],\n",
       "        ...,\n",
       "        [ 17,   3,  91],\n",
       "        [ 21,   9,  95],\n",
       "        [ 35,  24, 110]],\n",
       "\n",
       "       [[ 31,  13,  17],\n",
       "        [ 57,  38,  41],\n",
       "        [ 86,  65,  67],\n",
       "        ...,\n",
       "        [ 21,   5, 104],\n",
       "        [ 18,   6,  99],\n",
       "        [ 32,  21, 113]],\n",
       "\n",
       "       ...,\n",
       "\n",
       "       [[ 24,  41,  88],\n",
       "        [ 19,  37,  83],\n",
       "        [ 19,  37,  84],\n",
       "        ...,\n",
       "        [ 54, 129, 178],\n",
       "        [ 28, 122, 168],\n",
       "        [ 57, 161, 205]],\n",
       "\n",
       "       [[ 20,  38,  86],\n",
       "        [ 15,  35,  81],\n",
       "        [ 15,  34,  82],\n",
       "        ...,\n",
       "        [ 41, 119, 165],\n",
       "        [ 22, 116, 162],\n",
       "        [ 51, 154, 199]],\n",
       "\n",
       "       [[ 21,  41,  87],\n",
       "        [ 17,  38,  84],\n",
       "        [ 18,  37,  85],\n",
       "        ...,\n",
       "        [ 34, 112, 157],\n",
       "        [  0,  94, 137],\n",
       "        [ 30, 132, 175]]], dtype=uint8)"
      ]
     },
     "execution_count": 11,
     "metadata": {},
     "output_type": "execute_result"
    }
   ],
   "source": [
    "combinar_imagenes('imagen2/imagen2_salida_gray_rojo.jpg', 'imagen2/imagen2_salida_gray_verde.jpg', 'imagen2/imagen2_salida_gray_azul.jpg')"
   ]
  },
  {
   "cell_type": "code",
   "execution_count": 15,
   "metadata": {},
   "outputs": [
    {
     "data": {
      "text/plain": [
       "array([[[  6,  52, 101],\n",
       "        [  8,  52, 100],\n",
       "        [ 12,  54,  98],\n",
       "        ...,\n",
       "        [232, 223, 209],\n",
       "        [233, 224, 210],\n",
       "        [233, 225, 210]],\n",
       "\n",
       "       [[ 10,  52, 100],\n",
       "        [  9,  52, 100],\n",
       "        [ 11,  53,  98],\n",
       "        ...,\n",
       "        [232, 223, 209],\n",
       "        [233, 224, 210],\n",
       "        [233, 225, 210]],\n",
       "\n",
       "       [[ 12,  51, 100],\n",
       "        [ 11,  52, 101],\n",
       "        [ 13,  53,  99],\n",
       "        ...,\n",
       "        [233, 224, 210],\n",
       "        [233, 224, 210],\n",
       "        [233, 225, 210]],\n",
       "\n",
       "       ...,\n",
       "\n",
       "       [[ 78,  69,  66],\n",
       "        [ 84,  73,  71],\n",
       "        [ 82,  72,  69],\n",
       "        ...,\n",
       "        [166, 167, 178],\n",
       "        [168, 169, 180],\n",
       "        [169, 170, 181]],\n",
       "\n",
       "       [[ 96,  85,  83],\n",
       "        [ 67,  56,  53],\n",
       "        [ 54,  46,  40],\n",
       "        ...,\n",
       "        [166, 167, 178],\n",
       "        [168, 169, 180],\n",
       "        [169, 170, 181]],\n",
       "\n",
       "       [[ 71,  62,  58],\n",
       "        [ 74,  63,  61],\n",
       "        [ 74,  62,  60],\n",
       "        ...,\n",
       "        [166, 167, 178],\n",
       "        [168, 169, 180],\n",
       "        [169, 170, 181]]], dtype=uint8)"
      ]
     },
     "execution_count": 15,
     "metadata": {},
     "output_type": "execute_result"
    }
   ],
   "source": [
    "combinar_imagenes('imagen3/perro_salida_gray_rojo.jpg', 'imagen3/perro_salida_gray_verde.jpg', 'imagen3/perro_salida_gray_azul.jpg')"
   ]
  },
  {
   "cell_type": "code",
   "execution_count": 16,
   "metadata": {},
   "outputs": [],
   "source": [
    "def descomponer_imagen(imagen):\n",
    "    # Cargar la imagen\n",
    "    img = cv2.imread(imagen)\n",
    "\n",
    "    # Separar la imagen en los canales B, G, R\n",
    "    img_b, img_g, img_r = cv2.split(img)\n",
    "\n",
    "    # Guardar las imágenes\n",
    "    cv2.imwrite('imagen_azul.png', img_b)\n",
    "    cv2.imwrite('imagen_verde.png', img_g)\n",
    "    cv2.imwrite('imagen_rojo.png', img_r)\n",
    "\n",
    "    # Mostrar las imágenes\n",
    "    cv2.imshow('Imagen azul', img_b)\n",
    "    cv2.imshow('Imagen verde', img_g)\n",
    "    cv2.imshow('Imagen rojo', img_r)\n",
    "\n",
    "    # Esperar a que se presione una tecla para cerrar las ventanas de las imágenes\n",
    "    cv2.waitKey(0)\n",
    "    cv2.destroyAllWindows()\n"
   ]
  },
  {
   "cell_type": "code",
   "execution_count": 24,
   "metadata": {},
   "outputs": [],
   "source": [
    "descomponer_imagen('cr7.jpg')"
   ]
  },
  {
   "attachments": {},
   "cell_type": "markdown",
   "metadata": {},
   "source": [
    "Problema #4"
   ]
  },
  {
   "cell_type": "code",
   "execution_count": 28,
   "metadata": {},
   "outputs": [],
   "source": [
    "def mostrar_histogramas(imagen):\n",
    "    # Cargar la imagen\n",
    "    img = cv2.imread(imagen)\n",
    "\n",
    "    # Separar la imagen en los canales B, G, R\n",
    "    img_b, img_g, img_r = cv2.split(img)\n",
    "\n",
    "    # Calcular la imagen en escala de grises\n",
    "    img_gray = np.mean(img, axis=2, dtype=np.uint8)\n",
    "\n",
    "    # Crear los histogramas\n",
    "    colors = ['b', 'g', 'r', 'gray']\n",
    "    for i, img in enumerate([img_b, img_g, img_r, img_gray]):\n",
    "        hist = cv2.calcHist([img], [0], None, [256], [0,256])\n",
    "        plt.plot(hist, color=colors[i])\n",
    "        plt.xlim([0,256])\n",
    "        mean = np.mean(img)\n",
    "        plt.axvline(mean, color=colors[i])\n",
    "    \n",
    "    plt.title('Histogramas')\n",
    "    plt.show()\n"
   ]
  },
  {
   "cell_type": "code",
   "execution_count": 29,
   "metadata": {},
   "outputs": [
    {
     "data": {
      "image/png": "[encoded data removed]",
      "text/plain": [
       "<Figure size 640x480 with 1 Axes>"
      ]
     },
     "metadata": {},
     "output_type": "display_data"
    }
   ],
   "source": [
    "mostrar_histogramas('cr7.jpg')"
   ]
  },
  {
   "attachments": {},
   "cell_type": "markdown",
   "metadata": {},
   "source": [
    "Problema #5"
   ]
  },
  {
   "attachments": {},
   "cell_type": "markdown",
   "metadata": {},
   "source": [
    "El modelo de color HSV representa los colores en términos de Matiz (Hue), Saturación (Saturation) y Valor (Value).\n",
    "\n",
    "El Matiz representa el color puro, mapeado en un círculo donde los colores varían en grados: rojo a 0, verde a 120 y azul a 240.\n",
    "La Saturación indica la \"pureza\" del color, con valores bajos más grises y valores altos más coloridos.\n",
    "El Valor representa la luminosidad del color, con valores bajos para oscuro y altos para claro.\n",
    "El espacio HSV es útil para la detección de colores en aplicaciones de visión por computadora porque representa los colores de manera más intuitiva para los humanos que el espacio de color RGB. Para convertir de RGB a HSV, se utilizan fórmulas matemáticas específicas que transforman el espacio cúbico de color RGB en el espacio cilíndrico de color HSV."
   ]
  }
 ],
 "metadata": {
  "kernelspec": {
   "display_name": "Python 3",
   "language": "python",
   "name": "python3"
  },
  "language_info": {
   "codemirror_mode": {
    "name": "ipython",
    "version": 3
   },
   "file_extension": ".py",
   "mimetype": "text/x-python",
   "name": "python",
   "nbconvert_exporter": "python",
   "pygments_lexer": "ipython3",
   "version": "3.11.2"
  },
  "orig_nbformat": 4
 },
 "nbformat": 4,
 "nbformat_minor": 2
}
